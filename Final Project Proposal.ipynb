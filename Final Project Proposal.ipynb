{
 "cells": [
  {
   "attachments": {},
   "cell_type": "markdown",
   "id": "a87b54d4",
   "metadata": {},
   "source": [
    "# Final Project Proposal\n",
    "\n",
    "## JUNE 3 2023\n",
    "### Team member: Wentao Deng, Site Li, Haojie Liu"
   ]
  },
  {
   "attachments": {},
   "cell_type": "markdown",
   "id": "439e67cf",
   "metadata": {},
   "source": [
    "### Introduce the Team and the duties of each member\n",
    "\n",
    "<div>\n",
    "<img src=\"a95bb4934e64820ca96d323251aa677.jpg\" width=\"500\"/>\n",
    "</div>\n",
    "\n",
    "Our team divided the final project into three different parts:\n",
    "+ Understand data background and state problem\n",
    "+ Brief analysis the dataset and discover idea about the problem\n",
    "+ Finalize data and define a alogrithm to compute result   \n",
    "\n",
    "In order to finish the project, our team has chosen to work collaboratively on each part without any specific individual leading the way. This approach ensures that every team member will actively participate in understanding, exploring, and finalizing the dataset and problem simultaneously, maintaining a consistent pace throughout the project."
   ]
  },
  {
   "attachments": {},
   "cell_type": "markdown",
   "id": "f3272230",
   "metadata": {},
   "source": [
    "### Problem Statement and Data Background\n",
    "\n",
    "According to the dataset we choose for this project, datafest 2018, include information about each work opportunity that posted on *Indeed.com*, such as address of the work, estimated salary, education experience, and job title, etc.. Therefore, base on information that we collected from basic analysis of the dataset and topic from past datafest we decide our problem as following:\n",
    "\n",
    "### <center>What advice would you give a new high school about what major to choose in college?</center>\n",
    "\n",
    "To further explore this question, we will first analysis the relationship between job category and estimated salary in different country and area. Then base on their salary and the number of opportunities posted on indeed to finalize the best job for normal people(a person who has no any preference on their major or career and cares about their salary).  "
   ]
  },
  {
   "attachments": {},
   "cell_type": "markdown",
   "id": "283d7858",
   "metadata": {},
   "source": [
    "### The Data\n",
    "\n",
    "As mentioned above, we use Datafest 2018 as our data set for this project. This dataset provides information about job postings, including company details, job attributes, descriptions, requirements, and user engagement metrics such as clicks. It allows for analysis of factors influencing job popularity, salary estimation, and industry trends, among other potential insights.\n",
    "\n",
    "Among all types of the data that had been collected, we decide to narrow it down to: \n",
    "\n",
    "+ date: Unixtime date when events occurred.\n",
    "+ companyId: ID of the company associated with the job posting.\n",
    "+ jobId: ID of the job posting.\n",
    "+ country: Country of the job posting.\n",
    "+ stateProvince: Name of the state or province of the job posting.\n",
    "+ city: Name of the city of the job posting.\n",
    "+ normTitle: Normalized or canonical job title.\n",
    "+ normTitleCategory: Category or occupational category of the normalized job title.\n",
    "+ estimatedSalary: Estimated annual salary for the job. 0 if estimate is not available.\n",
    "+ salaryCurrency: urrency used for the salary.\n",
    "\n",
    "\n",
    "We'll construct a few charts to quickly parse the dataset after data cleaning. In order to intuitively identify the general requirements of different profession categories, frequency of normTitleCategory will sort the frequency of normTitleCategory. Number of occurrences for each stateThe entire number of jobs in each US region will be visually sorted and displayed by Province (US) so that we can see the total number of occupational needs in the US regions. The top 10 cities in California with the highest occupational demand will be determined by tallying and sorting each city's occupational demand. The top 10 cities with strong occupational demand in various regions can be determined using the same facts when looking at TX, FL, NY, and other locations.  Mean Salary by Job Category allows us to visualize the average salary for each type of occupation.\n",
    "\n",
    "#### Relevant features\n",
    "\n",
    "Base on the analysis from EDA, we found out that the most frequent job that has been posted on indeed is relevent to management, retail and sale. Also, jobs that have the highset average salary from the dataset is medical doctor, techsoftware, engid and engmech.\n",
    "\n",
    "After breakdown the dataset by country and state, we find out that most job in US are from California, Texas, New York and Florida. Los Angeles, New York, Orlanda and Houston are some of the major city that has the most opportunity that hiring.\n",
    "\n",
    "These significant features can help us to provide suggestion to students on city that they might want to study in university or major that they would like to take while in university."
   ]
  },
  {
   "attachments": {},
   "cell_type": "markdown",
   "id": "9552d2f4",
   "metadata": {},
   "source": [
    "### Analysis\n",
    "\n",
    "From previous analysis, we conclude three hypotheses for our final answer:\n",
    "\n",
    "+ Choose business as their major in college\n",
    "+ Choose medical as their major in college\n",
    "+ Choose Enginnering or relevant as their major in college\n",
    "\n",
    "In addition, we will also suggest some city for student to study in college, base on the opportunity that opened in each city. \n",
    "\n",
    "#### Python Packages\n",
    "\n",
    "+ numpy\n",
    "+ pandas\n",
    "+ matplotlib"
   ]
  }
 ],
 "metadata": {
  "kernelspec": {
   "display_name": "Python 3 (ipykernel)",
   "language": "python",
   "name": "python3"
  },
  "language_info": {
   "codemirror_mode": {
    "name": "ipython",
    "version": 3
   },
   "file_extension": ".py",
   "mimetype": "text/x-python",
   "name": "python",
   "nbconvert_exporter": "python",
   "pygments_lexer": "ipython3",
   "version": "3.10.9"
  }
 },
 "nbformat": 4,
 "nbformat_minor": 5
}
